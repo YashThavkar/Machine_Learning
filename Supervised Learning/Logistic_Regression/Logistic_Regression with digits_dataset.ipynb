{
 "cells": [
  {
   "cell_type": "code",
   "execution_count": 7,
   "id": "716fa529",
   "metadata": {},
   "outputs": [],
   "source": [
    "import numpy as np\n",
    "import pandas as pd\n",
    "import sklearn\n",
    "import matplotlib.pyplot as plt\n",
    "from sklearn.datasets import load_digits"
   ]
  },
  {
   "cell_type": "code",
   "execution_count": 8,
   "id": "2984dffa",
   "metadata": {},
   "outputs": [],
   "source": [
    "digit = load_digits()"
   ]
  },
  {
   "cell_type": "code",
   "execution_count": 9,
   "id": "f3e83df7",
   "metadata": {},
   "outputs": [
    {
     "data": {
      "text/plain": [
       "['DESCR', 'data', 'feature_names', 'frame', 'images', 'target', 'target_names']"
      ]
     },
     "execution_count": 9,
     "metadata": {},
     "output_type": "execute_result"
    }
   ],
   "source": [
    "dir(digit)"
   ]
  },
  {
   "cell_type": "code",
   "execution_count": 15,
   "id": "4f36b206",
   "metadata": {},
   "outputs": [
    {
     "data": {
      "text/plain": [
       "array([[ 0.,  0.,  5., 13.,  9.,  1.,  0.,  0.,  0.,  0., 13., 15., 10.,\n",
       "        15.,  5.,  0.,  0.,  3., 15.,  2.,  0., 11.,  8.,  0.,  0.,  4.,\n",
       "        12.,  0.,  0.,  8.,  8.,  0.,  0.,  5.,  8.,  0.,  0.,  9.,  8.,\n",
       "         0.,  0.,  4., 11.,  0.,  1., 12.,  7.,  0.,  0.,  2., 14.,  5.,\n",
       "        10., 12.,  0.,  0.,  0.,  0.,  6., 13., 10.,  0.,  0.,  0.],\n",
       "       [ 0.,  0.,  0., 12., 13.,  5.,  0.,  0.,  0.,  0.,  0., 11., 16.,\n",
       "         9.,  0.,  0.,  0.,  0.,  3., 15., 16.,  6.,  0.,  0.,  0.,  7.,\n",
       "        15., 16., 16.,  2.,  0.,  0.,  0.,  0.,  1., 16., 16.,  3.,  0.,\n",
       "         0.,  0.,  0.,  1., 16., 16.,  6.,  0.,  0.,  0.,  0.,  1., 16.,\n",
       "        16.,  6.,  0.,  0.,  0.,  0.,  0., 11., 16., 10.,  0.,  0.],\n",
       "       [ 0.,  0.,  0.,  4., 15., 12.,  0.,  0.,  0.,  0.,  3., 16., 15.,\n",
       "        14.,  0.,  0.,  0.,  0.,  8., 13.,  8., 16.,  0.,  0.,  0.,  0.,\n",
       "         1.,  6., 15., 11.,  0.,  0.,  0.,  1.,  8., 13., 15.,  1.,  0.,\n",
       "         0.,  0.,  9., 16., 16.,  5.,  0.,  0.,  0.,  0.,  3., 13., 16.,\n",
       "        16., 11.,  5.,  0.,  0.,  0.,  0.,  3., 11., 16.,  9.,  0.],\n",
       "       [ 0.,  0.,  7., 15., 13.,  1.,  0.,  0.,  0.,  8., 13.,  6., 15.,\n",
       "         4.,  0.,  0.,  0.,  2.,  1., 13., 13.,  0.,  0.,  0.,  0.,  0.,\n",
       "         2., 15., 11.,  1.,  0.,  0.,  0.,  0.,  0.,  1., 12., 12.,  1.,\n",
       "         0.,  0.,  0.,  0.,  0.,  1., 10.,  8.,  0.,  0.,  0.,  8.,  4.,\n",
       "         5., 14.,  9.,  0.,  0.,  0.,  7., 13., 13.,  9.,  0.,  0.],\n",
       "       [ 0.,  0.,  0.,  1., 11.,  0.,  0.,  0.,  0.,  0.,  0.,  7.,  8.,\n",
       "         0.,  0.,  0.,  0.,  0.,  1., 13.,  6.,  2.,  2.,  0.,  0.,  0.,\n",
       "         7., 15.,  0.,  9.,  8.,  0.,  0.,  5., 16., 10.,  0., 16.,  6.,\n",
       "         0.,  0.,  4., 15., 16., 13., 16.,  1.,  0.,  0.,  0.,  0.,  3.,\n",
       "        15., 10.,  0.,  0.,  0.,  0.,  0.,  2., 16.,  4.,  0.,  0.]])"
      ]
     },
     "execution_count": 15,
     "metadata": {},
     "output_type": "execute_result"
    }
   ],
   "source": [
    "digit.data[0:5]"
   ]
  },
  {
   "cell_type": "code",
   "execution_count": 12,
   "id": "587ea34e",
   "metadata": {},
   "outputs": [
    {
     "data": {
      "text/plain": [
       "<matplotlib.image.AxesImage at 0x1dcf5dacc10>"
      ]
     },
     "execution_count": 12,
     "metadata": {},
     "output_type": "execute_result"
    },
    {
     "data": {
      "text/plain": [
       "<Figure size 432x288 with 0 Axes>"
      ]
     },
     "metadata": {},
     "output_type": "display_data"
    },
    {
     "data": {
      "image/png": "[encoded data removed]",
      "text/plain": [
       "<Figure size 288x288 with 1 Axes>"
      ]
     },
     "metadata": {
      "needs_background": "light"
     },
     "output_type": "display_data"
    }
   ],
   "source": [
    "plt.gray()\n",
    "plt.matshow(digit.images[1])"
   ]
  },
  {
   "cell_type": "code",
   "execution_count": 13,
   "id": "f842d53c",
   "metadata": {},
   "outputs": [
    {
     "data": {
      "text/plain": [
       "array([0, 1, 2, 3, 4])"
      ]
     },
     "execution_count": 13,
     "metadata": {},
     "output_type": "execute_result"
    }
   ],
   "source": [
    "digit.target[0:5]"
   ]
  },
  {
   "cell_type": "code",
   "execution_count": 17,
   "id": "9b790691",
   "metadata": {},
   "outputs": [],
   "source": [
    "from sklearn.model_selection import train_test_split\n"
   ]
  },
  {
   "cell_type": "code",
   "execution_count": 18,
   "id": "5050167c",
   "metadata": {},
   "outputs": [],
   "source": [
    "X_train, X_test, y_train, y_test =train_test_split(digit.data , digit.target, test_size=0.2, random_state=10)"
   ]
  },
  {
   "cell_type": "code",
   "execution_count": 19,
   "id": "4cdf7754",
   "metadata": {},
   "outputs": [
    {
     "data": {
      "text/plain": [
       "1437"
      ]
     },
     "execution_count": 19,
     "metadata": {},
     "output_type": "execute_result"
    }
   ],
   "source": [
    "len(X_train)"
   ]
  },
  {
   "cell_type": "code",
   "execution_count": 20,
   "id": "aec2d425",
   "metadata": {},
   "outputs": [
    {
     "data": {
      "text/plain": [
       "360"
      ]
     },
     "execution_count": 20,
     "metadata": {},
     "output_type": "execute_result"
    }
   ],
   "source": [
    "len(X_test)"
   ]
  },
  {
   "cell_type": "code",
   "execution_count": 21,
   "id": "f77cef47",
   "metadata": {},
   "outputs": [],
   "source": [
    "from sklearn.linear_model import LogisticRegression"
   ]
  },
  {
   "cell_type": "code",
   "execution_count": 22,
   "id": "7dd4ec4e",
   "metadata": {},
   "outputs": [],
   "source": [
    "lr= LogisticRegression()"
   ]
  },
  {
   "cell_type": "code",
   "execution_count": 23,
   "id": "5aa1a081",
   "metadata": {},
   "outputs": [
    {
     "name": "stderr",
     "output_type": "stream",
     "text": [
      "c:\\users\\yashr\\appdata\\local\\programs\\python\\python38\\lib\\site-packages\\sklearn\\linear_model\\_logistic.py:814: ConvergenceWarning: lbfgs failed to converge (status=1):\n",
      "STOP: TOTAL NO. of ITERATIONS REACHED LIMIT.\n",
      "\n",
      "Increase the number of iterations (max_iter) or scale the data as shown in:\n",
      "    https://scikit-learn.org/stable/modules/preprocessing.html\n",
      "Please also refer to the documentation for alternative solver options:\n",
      "    https://scikit-learn.org/stable/modules/linear_model.html#logistic-regression\n",
      "  n_iter_i = _check_optimize_result(\n"
     ]
    },
    {
     "data": {
      "text/plain": [
       "LogisticRegression()"
      ]
     },
     "execution_count": 23,
     "metadata": {},
     "output_type": "execute_result"
    }
   ],
   "source": [
    "lr.fit(X_train, y_train)"
   ]
  },
  {
   "cell_type": "code",
   "execution_count": 25,
   "id": "e05a1cf3",
   "metadata": {},
   "outputs": [
    {
     "data": {
      "text/plain": [
       "array([[ 0.00000000e+00, -8.98359128e-03, -3.11503083e-02,\n",
       "         3.35584258e-02,  5.17227389e-02, -1.47240286e-01,\n",
       "        -1.20434976e-01, -9.50200611e-03, -1.36240035e-04,\n",
       "        -3.92973173e-02,  2.21581438e-02,  1.38129277e-01,\n",
       "         3.98701755e-02,  7.62081334e-02, -6.54055159e-02,\n",
       "        -9.82698344e-03, -2.88806913e-05,  3.96806209e-02,\n",
       "         1.84099669e-01, -5.06160408e-03, -3.38864819e-01,\n",
       "         1.63052624e-01,  5.98203257e-02, -3.55185226e-03,\n",
       "         0.00000000e+00,  1.03966725e-01,  1.46941554e-01,\n",
       "        -1.86457445e-01, -4.81600273e-01, -1.04469236e-02,\n",
       "         1.59969991e-01, -2.47627556e-04,  0.00000000e+00,\n",
       "         1.42644371e-01,  1.25358946e-01, -1.96102896e-01,\n",
       "        -3.72640635e-01,  2.64473620e-02,  1.03208567e-01,\n",
       "         0.00000000e+00, -5.36983388e-04,  6.17264140e-03,\n",
       "         1.89278560e-01, -9.37230444e-02, -2.04428829e-01,\n",
       "         1.32263513e-01,  4.38593978e-02, -5.38947183e-04,\n",
       "        -1.71032253e-03, -3.17243356e-02,  7.51933790e-02,\n",
       "         1.34076353e-02,  1.49260172e-01,  9.85431244e-02,\n",
       "        -5.40588532e-02, -9.13996351e-03, -1.52342840e-05,\n",
       "        -1.47709465e-02, -5.53071881e-02,  1.18575515e-01,\n",
       "         3.17648609e-02, -2.47598951e-02, -5.06781034e-02,\n",
       "        -1.49847757e-02],\n",
       "       [ 0.00000000e+00, -3.33886198e-02, -4.30870250e-02,\n",
       "         1.14770979e-01, -6.91639762e-01,  3.52095759e-01,\n",
       "         2.30763361e-03, -1.24588008e-02, -1.06902625e-03,\n",
       "        -2.58769377e-01, -4.78839490e-01, -3.67592001e-01,\n",
       "         2.48761683e-01, -1.88417426e-02, -3.09243632e-01,\n",
       "        -1.79281263e-02, -2.59904904e-04,  3.46043333e-01,\n",
       "        -3.61220356e-02,  6.73544479e-01,  2.01571569e-01,\n",
       "        -2.84869347e-01, -2.37472356e-02, -2.23637533e-03,\n",
       "         0.00000000e+00, -8.06843572e-02,  3.05221097e-02,\n",
       "         5.09774381e-03,  3.26987552e-01,  1.63449502e-01,\n",
       "        -5.16248608e-02, -7.57901265e-05,  0.00000000e+00,\n",
       "        -7.71802948e-02,  1.72670739e-01, -2.36191475e-01,\n",
       "         1.84057652e-01,  1.68669714e-01, -1.19102640e-01,\n",
       "         0.00000000e+00, -1.72016907e-04, -1.25661126e-01,\n",
       "         9.39864144e-03,  3.03156832e-01, -7.35746942e-03,\n",
       "        -1.39956458e-01, -3.14571462e-01, -3.17770460e-02,\n",
       "        -1.40233493e-03, -8.76024459e-02, -3.49558897e-02,\n",
       "         1.32273301e-01,  1.82894938e-01, -1.27771517e-01,\n",
       "        -3.03969386e-01,  1.29054692e-01, -4.11733244e-04,\n",
       "        -5.40397000e-02, -2.52005549e-01,  9.29096629e-02,\n",
       "         3.36115523e-02,  1.53985746e-01,  1.89750872e-01,\n",
       "         2.11627824e-01],\n",
       "       [ 0.00000000e+00,  1.03480835e-02,  1.08668541e-01,\n",
       "         1.13951465e-02,  2.25349383e-02, -7.22076236e-02,\n",
       "         5.71583722e-03, -2.77679125e-03, -1.72954365e-02,\n",
       "         1.05173605e-01,  1.04508780e-01, -1.99042279e-01,\n",
       "         2.94683168e-01, -2.28528034e-02,  1.03550622e-01,\n",
       "        -2.45288785e-03, -8.37745005e-03, -3.30093383e-02,\n",
       "        -5.48510932e-02, -3.13870934e-01,  1.91595071e-01,\n",
       "         4.03328348e-02,  1.76675534e-01, -1.00918245e-03,\n",
       "         0.00000000e+00, -1.94128964e-01, -5.08487292e-01,\n",
       "        -3.62040088e-01, -1.30678191e-01, -5.64302828e-02,\n",
       "         3.37520237e-02, -5.76109624e-05,  0.00000000e+00,\n",
       "        -1.26290222e-01, -2.84522546e-01, -5.01510873e-02,\n",
       "        -9.35642208e-02, -2.89682406e-01, -2.06003978e-01,\n",
       "         0.00000000e+00, -1.58421865e-04,  6.16424940e-02,\n",
       "         9.63802149e-02,  4.33786710e-01, -2.11949365e-01,\n",
       "        -3.39605653e-01, -8.32216721e-02, -8.15757448e-05,\n",
       "         2.98354646e-03,  1.03760458e-01,  3.39998129e-02,\n",
       "         3.94432686e-01,  3.46450274e-01,  2.79659328e-01,\n",
       "         1.82728417e-01,  3.96388005e-02,  1.04268297e-03,\n",
       "         2.28787183e-02,  1.41707670e-01,  2.17496649e-02,\n",
       "         3.15336552e-02,  2.68886390e-01,  4.29944941e-01,\n",
       "         1.49527055e-01],\n",
       "       [ 0.00000000e+00,  1.19775527e-01, -7.98283764e-02,\n",
       "         7.77161490e-02,  4.88899479e-01, -1.65747482e-02,\n",
       "        -7.55734939e-02, -3.31203573e-03, -3.04788283e-03,\n",
       "         2.25068161e-01,  3.45701388e-02, -1.64078416e-02,\n",
       "         5.53299559e-02,  3.07574487e-01,  1.81040319e-01,\n",
       "        -2.70976972e-03, -4.96135051e-04, -1.08239936e-01,\n",
       "        -2.91544957e-01, -3.85277292e-01,  9.14051440e-02,\n",
       "        -3.09802747e-01,  9.63140551e-03, -1.11857341e-03,\n",
       "         0.00000000e+00, -7.92581749e-02, -3.87012841e-01,\n",
       "        -1.33623577e-01,  2.61982000e-01, -2.88171256e-01,\n",
       "        -2.98936800e-01, -5.76011568e-05,  0.00000000e+00,\n",
       "        -6.85695552e-02, -1.10590104e-01,  8.60075248e-02,\n",
       "         2.19261597e-01, -1.67948368e-01,  1.37987405e-02,\n",
       "         0.00000000e+00, -1.58369185e-04,  4.66224191e-03,\n",
       "        -3.95840190e-01, -4.35923943e-01,  8.38808452e-02,\n",
       "         2.29294487e-01,  2.72257269e-01, -6.02826928e-04,\n",
       "        -1.94158410e-04, -2.28558692e-02,  4.38815672e-02,\n",
       "        -1.83206750e-01,  5.04608438e-02,  2.21373886e-01,\n",
       "         4.69246417e-01, -4.99422081e-02, -1.67051829e-05,\n",
       "         9.58953141e-02,  1.98520987e-01,  9.72730719e-02,\n",
       "         1.37368103e-02, -1.13509346e-01,  7.03203595e-03,\n",
       "        -1.76870251e-01],\n",
       "       [ 0.00000000e+00, -1.27840995e-02, -1.46367436e-01,\n",
       "        -2.73214718e-01, -2.34489465e-01, -1.66885871e-01,\n",
       "        -2.41250654e-01,  2.50848639e-02, -1.34745899e-04,\n",
       "        -8.07949166e-03, -6.63251493e-02, -1.73788831e-01,\n",
       "        -3.81172772e-01, -3.22524857e-01, -1.91050586e-01,\n",
       "         1.44464356e-02, -2.90437413e-05, -1.15773205e-01,\n",
       "         1.25180611e-01,  2.03130168e-01,  5.73560925e-02,\n",
       "         1.06097494e-01, -4.10458010e-03,  1.68999220e-02,\n",
       "         0.00000000e+00,  5.19153861e-04,  2.88537016e-01,\n",
       "         1.13679360e-01,  9.27085980e-02,  7.27978051e-02,\n",
       "         4.11766513e-01,  2.42264356e-03,  0.00000000e+00,\n",
       "         1.96015238e-01,  1.73727700e-01, -1.19044965e-01,\n",
       "         2.91814028e-01,  2.16051787e-01,  3.19967874e-01,\n",
       "         0.00000000e+00,  2.04983360e-03,  4.40537725e-01,\n",
       "         1.06665694e-01,  4.71857422e-01,  4.85308105e-01,\n",
       "         5.96053279e-02,  8.89252694e-02, -6.21247835e-04,\n",
       "         3.64221111e-03,  1.46255621e-01, -1.98564548e-01,\n",
       "         1.08663858e-01,  1.33933148e-01, -2.07769021e-01,\n",
       "        -1.85000310e-01, -5.51522317e-03, -1.91770197e-05,\n",
       "        -4.41409504e-03, -5.93918041e-02, -3.46500145e-01,\n",
       "        -2.12143406e-01, -1.70388288e-01, -1.06606541e-01,\n",
       "        -8.34431308e-03],\n",
       "       [ 0.00000000e+00,  5.43828728e-02,  3.50602379e-01,\n",
       "        -1.31184701e-01, -2.67642395e-03,  3.55857841e-01,\n",
       "         3.86133693e-01, -3.62844568e-04, -1.95299695e-04,\n",
       "        -6.29317429e-02,  1.73302705e-01,  2.00808766e-01,\n",
       "        -2.11021381e-02, -1.17562291e-01, -9.70374025e-02,\n",
       "        -6.80817501e-03, -1.29532898e-04,  1.50332388e-02,\n",
       "         7.55882446e-02, -1.65560165e-02, -3.35070646e-01,\n",
       "        -3.45403807e-01, -4.03578312e-01, -5.50373344e-03,\n",
       "         0.00000000e+00,  4.96172055e-02,  3.10009354e-01,\n",
       "        -8.89050500e-02,  2.60003444e-01, -2.27112769e-01,\n",
       "        -1.86907744e-01, -6.45339332e-05,  0.00000000e+00,\n",
       "         7.30193263e-02,  7.28316902e-02, -1.48981363e-01,\n",
       "        -2.13952066e-01,  5.29087446e-02,  2.12982924e-01,\n",
       "         0.00000000e+00, -1.58580491e-04, -2.70219228e-01,\n",
       "        -1.78391450e-01, -2.51384677e-01, -1.04906956e-01,\n",
       "         2.16357182e-01, -7.34372479e-02, -5.80958342e-04,\n",
       "        -1.89705026e-04, -1.77381810e-01, -1.10723593e-01,\n",
       "        -1.39585164e-01, -5.74902901e-02, -8.40956387e-02,\n",
       "        -1.36063489e-01, -1.89809237e-02, -1.50249441e-05,\n",
       "         1.47151763e-02,  4.19861652e-01,  2.48618220e-01,\n",
       "         7.61884420e-02,  1.28876427e-01, -1.44506290e-01,\n",
       "        -7.77252042e-02],\n",
       "       [ 0.00000000e+00, -9.72408311e-03, -1.55935324e-01,\n",
       "        -9.77828511e-02, -1.05821156e-01, -1.85653948e-01,\n",
       "        -7.01676511e-02, -2.64436482e-03, -2.85281846e-04,\n",
       "        -1.02420387e-01, -1.32420017e-01,  4.71037246e-02,\n",
       "        -3.26636243e-01,  2.36350399e-02,  1.09765941e-02,\n",
       "        -2.34883265e-03, -1.02809049e-04, -1.20365901e-03,\n",
       "         1.83339828e-01,  1.24586496e-02, -2.06998989e-01,\n",
       "        -3.00815024e-01, -9.16811160e-02, -1.20708601e-03,\n",
       "         0.00000000e+00,  1.69997178e-01,  4.04863897e-02,\n",
       "         1.11257899e-01, -1.34910455e-01, -1.04221042e-01,\n",
       "        -1.36802841e-01, -1.63147098e-04,  0.00000000e+00,\n",
       "         1.35259861e-01,  1.20446744e-01,  1.57441767e-01,\n",
       "        -2.11088406e-02,  3.10865845e-02,  1.13057305e-01,\n",
       "         0.00000000e+00, -3.88356700e-04, -8.32507928e-02,\n",
       "         4.46442642e-01,  8.20616098e-02,  1.48336897e-01,\n",
       "         1.56718829e-01,  2.11216555e-01,  3.69654630e-02,\n",
       "        -1.02411293e-03, -8.60853908e-02,  1.32548962e-01,\n",
       "         8.51334000e-02, -6.93169394e-02,  2.21522391e-01,\n",
       "         2.76335964e-02, -1.37556333e-01, -1.47856222e-05,\n",
       "        -1.13715371e-02, -1.73297436e-01, -9.55409994e-02,\n",
       "         7.77302578e-02,  9.50299088e-02, -6.87895136e-02,\n",
       "        -8.65882082e-02],\n",
       "       [ 0.00000000e+00,  5.17505744e-02,  1.18013247e-01,\n",
       "         1.62762149e-01,  1.98023995e-01,  4.89274532e-02,\n",
       "         1.76735407e-01,  9.04398150e-02, -1.31158415e-04,\n",
       "         2.93692142e-02,  1.35456479e-01,  2.04034573e-01,\n",
       "         4.78798790e-01, -1.24759808e-01,  1.37473039e-02,\n",
       "         6.34566335e-02, -2.88895834e-05, -2.42265761e-01,\n",
       "        -3.32522194e-01, -2.05228988e-01,  3.82317710e-02,\n",
       "         1.45739065e-01,  1.76584603e-01,  1.00136014e-02,\n",
       "         0.00000000e+00, -1.35501303e-01,  5.12159786e-02,\n",
       "        -2.56755983e-01, -2.46286132e-02,  1.83244968e-01,\n",
       "         7.15487196e-02, -1.25033724e-03,  0.00000000e+00,\n",
       "         1.30499415e-01, -2.11454431e-02, -3.81821207e-02,\n",
       "         1.06068623e-01,  2.44576794e-01,  1.72777378e-01,\n",
       "         0.00000000e+00, -1.58373149e-04,  1.38881192e-04,\n",
       "         6.93856305e-03,  1.61633815e-01,  8.46801472e-02,\n",
       "        -4.05142662e-02, -3.18331958e-02, -5.32752830e-04,\n",
       "        -2.22243695e-04, -2.92672508e-02, -4.34798993e-02,\n",
       "         9.32114504e-02, -2.00198694e-01, -4.15681712e-01,\n",
       "        -1.34070925e-01, -3.94461203e-03, -2.51928335e-05,\n",
       "         2.96298405e-02,  2.23480096e-02, -2.75517326e-01,\n",
       "        -2.46696777e-01, -2.90035094e-01, -1.01085346e-01,\n",
       "        -9.76141019e-03],\n",
       "       [ 0.00000000e+00, -7.83734064e-02,  1.02190720e-01,\n",
       "        -3.16623529e-01,  1.74340865e-01, -1.51295805e-01,\n",
       "        -1.58407652e-01, -8.50593659e-03,  2.24800404e-02,\n",
       "         6.46436275e-03,  3.64468409e-02,  9.15838471e-02,\n",
       "        -2.73924705e-01,  1.72688879e-01,  1.96370115e-01,\n",
       "        -5.75016341e-03,  9.48323390e-03,  4.98633400e-02,\n",
       "         1.84030665e-01, -8.41550329e-02,  1.55962323e-01,\n",
       "         2.43522356e-01, -1.03623130e-02, -1.56323631e-03,\n",
       "         0.00000000e+00,  6.94184588e-02, -1.57926647e-01,\n",
       "         4.17279930e-01, -2.23104813e-01,  8.16680909e-02,\n",
       "        -1.96780247e-02, -1.64292234e-04,  0.00000000e+00,\n",
       "        -2.64007859e-02, -1.08958688e-01,  3.29601389e-01,\n",
       "         8.35130282e-02, -2.48416325e-01, -4.17562586e-01,\n",
       "         0.00000000e+00, -1.60333401e-04,  5.48143609e-03,\n",
       "         2.22485367e-01,  1.24539228e-01,  1.63210405e-01,\n",
       "        -4.96240300e-02,  6.65864523e-02, -1.69293294e-03,\n",
       "        -1.69295430e-03,  5.57844225e-02,  1.10734497e-01,\n",
       "        -3.03665194e-01, -3.48525793e-01,  1.47918894e-01,\n",
       "         2.28943363e-01,  1.25011941e-02, -5.09567062e-04,\n",
       "        -8.44859532e-03, -2.63392162e-01,  1.06756559e-01,\n",
       "         1.90522043e-01, -7.02678681e-02, -9.96070781e-02,\n",
       "        -2.05719223e-02],\n",
       "       [ 0.00000000e+00, -9.30032577e-02, -2.23106416e-01,\n",
       "         4.18602951e-01,  9.91047904e-02, -1.70227714e-02,\n",
       "         9.49418559e-02, -7.59618990e-02, -1.84968984e-04,\n",
       "         1.05422974e-01,  1.71141569e-01,  7.51707657e-02,\n",
       "        -1.14607914e-01,  2.64349626e-02,  1.57052183e-01,\n",
       "        -3.00781307e-02, -3.05879405e-05,  4.98713662e-02,\n",
       "        -3.71987377e-02,  1.21016571e-01,  1.44812484e-01,\n",
       "         5.42146553e-01,  1.10761688e-01, -1.07234842e-02,\n",
       "         0.00000000e+00,  9.60540780e-02,  1.85714377e-01,\n",
       "         3.80467211e-01,  5.32407506e-02,  1.85221909e-01,\n",
       "         1.69130237e-02, -3.41703247e-04,  0.00000000e+00,\n",
       "        -3.78997355e-01, -1.39819039e-01,  2.15603226e-01,\n",
       "        -1.83449165e-01, -3.36938876e-02, -1.93123585e-01,\n",
       "         0.00000000e+00, -1.58398508e-04, -3.95042729e-02,\n",
       "        -5.03358042e-01, -7.96003953e-01, -4.36773780e-01,\n",
       "        -2.24538932e-01, -1.79781366e-01, -5.37175185e-04,\n",
       "        -1.89925732e-04,  1.29116602e-01, -8.63428764e-03,\n",
       "        -2.00665223e-01, -1.87467659e-01, -1.33699735e-01,\n",
       "        -9.53888290e-02,  4.38845769e-02, -1.52627747e-05,\n",
       "        -7.00741751e-02,  2.09558202e-02,  3.16757762e-02,\n",
       "         3.75256165e-03,  2.21820183e-02, -5.54549768e-02,\n",
       "         3.36912057e-02]])"
      ]
     },
     "execution_count": 25,
     "metadata": {},
     "output_type": "execute_result"
    }
   ],
   "source": [
    "lr.coef_"
   ]
  },
  {
   "cell_type": "code",
   "execution_count": 26,
   "id": "eb18e9ad",
   "metadata": {},
   "outputs": [
    {
     "data": {
      "text/plain": [
       "array([5, 2, 5, 4, 8, 2, 4, 3, 3, 0, 8, 7, 0, 1, 8, 6, 9, 7, 9, 7, 1, 8,\n",
       "       6, 7, 8, 8, 5, 2, 5, 9, 3, 3, 7, 3, 4, 1, 9, 2, 7, 4, 2, 1, 0, 9,\n",
       "       2, 3, 6, 1, 9, 4, 4, 5, 8, 4, 8, 5, 9, 7, 8, 0, 4, 5, 8, 4, 7, 9,\n",
       "       0, 7, 4, 3, 9, 3, 3, 8, 0, 7, 3, 6, 5, 2, 0, 8, 8, 0, 1, 1, 2, 8,\n",
       "       8, 8, 2, 6, 3, 4, 7, 9, 8, 2, 9, 2, 5, 0, 8, 0, 4, 8, 8, 0, 6, 7,\n",
       "       3, 3, 9, 1, 5, 4, 6, 0, 8, 8, 1, 2, 7, 9, 8, 5, 2, 3, 3, 8, 7, 6,\n",
       "       2, 5, 4, 3, 3, 7, 6, 7, 2, 7, 4, 9, 5, 1, 9, 4, 6, 1, 1, 1, 4, 0,\n",
       "       8, 9, 1, 2, 3, 5, 0, 3, 4, 1, 5, 4, 9, 3, 5, 6, 4, 0, 8, 6, 7, 0,\n",
       "       9, 9, 4, 7, 5, 5, 2, 0, 6, 7, 5, 3, 9, 7, 1, 3, 2, 8, 3, 3, 1, 7,\n",
       "       1, 1, 1, 9, 1, 6, 7, 6, 9, 5, 2, 3, 5, 2, 9, 5, 4, 8, 2, 9, 1, 5,\n",
       "       0, 2, 3, 9, 0, 2, 0, 2, 1, 0, 5, 0, 6, 4, 2, 1, 9, 0, 9, 0, 6, 9,\n",
       "       4, 4, 9, 4, 5, 6, 1, 6, 7, 0, 8, 6, 2, 0, 1, 2, 3, 8, 4, 4, 3, 5,\n",
       "       7, 9, 7, 2, 0, 2, 0, 9, 2, 8, 6, 3, 1, 0, 6, 6, 6, 7, 1, 6, 1, 7,\n",
       "       6, 0, 6, 3, 7, 1, 6, 2, 2, 0, 8, 4, 7, 3, 3, 0, 0, 2, 3, 9, 7, 4,\n",
       "       6, 7, 9, 7, 6, 0, 5, 6, 2, 7, 1, 0, 5, 8, 6, 4, 7, 2, 1, 1, 0, 6,\n",
       "       6, 5, 0, 2, 9, 8, 7, 9, 6, 7, 0, 8, 3, 5, 9, 4, 1, 5, 5, 4, 7, 3,\n",
       "       9, 2, 7, 3, 3, 6, 6, 3])"
      ]
     },
     "execution_count": 26,
     "metadata": {},
     "output_type": "execute_result"
    }
   ],
   "source": [
    "lr.predict(X_test)"
   ]
  },
  {
   "cell_type": "code",
   "execution_count": 27,
   "id": "f8a8b016",
   "metadata": {},
   "outputs": [
    {
     "name": "stdout",
     "output_type": "stream",
     "text": [
      "[5 2 5 4 8 2 4 3 3 0 8 7 0 1 8 6 9 7 9 7 1 8 6 7 8 8 5 3 5 9 3 3 7 3 4 1 9\n",
      " 2 5 4 2 1 0 9 2 3 6 1 9 4 4 9 8 4 8 5 9 7 8 0 4 5 8 4 7 9 0 7 1 3 9 3 3 8\n",
      " 0 7 3 6 5 2 0 8 8 0 1 1 2 8 8 8 2 6 3 4 7 9 8 2 9 2 5 0 8 0 4 8 8 0 6 7 3\n",
      " 3 9 1 5 4 6 0 8 8 1 1 7 9 9 5 2 3 3 9 7 6 2 5 4 3 3 7 6 7 2 7 4 9 5 1 9 4\n",
      " 6 1 1 1 4 0 4 9 1 2 3 5 0 3 4 1 5 4 9 3 5 6 4 0 8 6 7 0 9 9 4 7 3 5 2 0 6\n",
      " 7 5 3 9 7 1 3 2 8 3 3 1 7 1 1 1 7 1 6 7 6 9 5 2 3 5 2 9 5 4 8 2 9 1 5 0 2\n",
      " 3 9 0 2 0 2 1 0 5 0 6 4 2 1 9 0 9 0 6 9 4 4 9 7 5 6 1 8 7 0 8 6 2 0 1 2 3\n",
      " 8 4 4 3 5 7 9 7 2 0 2 0 9 2 8 6 3 6 0 6 6 6 7 1 6 1 7 6 0 6 3 7 4 6 2 8 0\n",
      " 8 4 7 3 3 0 0 2 3 9 7 4 6 7 9 7 6 0 5 6 2 7 1 0 5 1 6 4 7 2 5 1 4 6 6 5 0\n",
      " 2 9 8 7 9 6 7 0 8 3 5 9 4 1 5 5 4 7 3 9 2 7 3 3 6 6 3]\n"
     ]
    }
   ],
   "source": [
    "print(y_test)"
   ]
  },
  {
   "cell_type": "code",
   "execution_count": 29,
   "id": "3539ca85",
   "metadata": {},
   "outputs": [
    {
     "data": {
      "text/plain": [
       "0.95"
      ]
     },
     "execution_count": 29,
     "metadata": {},
     "output_type": "execute_result"
    }
   ],
   "source": [
    "lr.score(X_test,y_test)"
   ]
  },
  {
   "cell_type": "code",
   "execution_count": 34,
   "id": "fc51aedd",
   "metadata": {},
   "outputs": [
    {
     "data": {
      "text/plain": [
       "4"
      ]
     },
     "execution_count": 34,
     "metadata": {},
     "output_type": "execute_result"
    }
   ],
   "source": [
    "digit.target[670] #actual value"
   ]
  },
  {
   "cell_type": "code",
   "execution_count": 35,
   "id": "fbfd7edd",
   "metadata": {},
   "outputs": [
    {
     "data": {
      "text/plain": [
       "array([4])"
      ]
     },
     "execution_count": 35,
     "metadata": {},
     "output_type": "execute_result"
    }
   ],
   "source": [
    "lr.predict([digit.data[670]]) #predicting value"
   ]
  },
  {
   "cell_type": "code",
   "execution_count": 36,
   "id": "263fee3a",
   "metadata": {},
   "outputs": [
    {
     "data": {
      "text/plain": [
       "<matplotlib.image.AxesImage at 0x1dcf6188e50>"
      ]
     },
     "execution_count": 36,
     "metadata": {},
     "output_type": "execute_result"
    },
    {
     "data": {
      "image/png": "[encoded data removed]",
      "text/plain": [
       "<Figure size 288x288 with 1 Axes>"
      ]
     },
     "metadata": {
      "needs_background": "light"
     },
     "output_type": "display_data"
    }
   ],
   "source": [
    "plt.matshow(digit.images[670])"
   ]
  },
  {
   "cell_type": "code",
   "execution_count": null,
   "id": "d5c60656",
   "metadata": {},
   "outputs": [],
   "source": [
    " "
   ]
  }
 ],
 "metadata": {
  "kernelspec": {
   "display_name": "Python 3 (ipykernel)",
   "language": "python",
   "name": "python3"
  },
  "language_info": {
   "codemirror_mode": {
    "name": "ipython",
    "version": 3
   },
   "file_extension": ".py",
   "mimetype": "text/x-python",
   "name": "python",
   "nbconvert_exporter": "python",
   "pygments_lexer": "ipython3",
   "version": "3.10.8"
  }
 },
 "nbformat": 4,
 "nbformat_minor": 5
}
