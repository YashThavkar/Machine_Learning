{
 "cells": [
  {
   "cell_type": "code",
   "execution_count": 1,
   "id": "11210dbe",
   "metadata": {},
   "outputs": [
    {
     "data": {
      "text/plain": [
       "LabelPropagation()"
      ]
     },
     "execution_count": 1,
     "metadata": {},
     "output_type": "execute_result"
    }
   ],
   "source": [
    "import numpy as np\n",
    "\n",
    "from sklearn import datasets\n",
    "from sklearn.semi_supervised import LabelPropagation\n",
    "label_prop_model = LabelPropagation()\n",
    "iris = datasets.load_iris()\n",
    "rng = np.random.RandomState(42)\n",
    "random_unlabeled_points = rng.rand(len(iris.target)) < 0.3\n",
    "labels = np.copy(iris.target)\n",
    "labels[random_unlabeled_points] = -1\n",
    "label_prop_model.fit(iris.data, labels)"
   ]
  },
  {
   "cell_type": "code",
   "execution_count": 9,
   "id": "244040ce",
   "metadata": {},
   "outputs": [],
   "source": [
    "import pandas as pd"
   ]
  },
  {
   "cell_type": "code",
   "execution_count": 22,
   "id": "84d4eef8",
   "metadata": {},
   "outputs": [
    {
     "data": {
      "text/plain": [
       "array([0, 0, 0, 0, 0, 0, 0, 0, 0, 0, 0, 0, 0, 0, 0, 0, 0, 0, 0, 0, 0, 0,\n",
       "       0, 0, 0, 0, 0, 0, 0, 0, 0, 0, 0, 0, 0, 0, 0, 0, 0, 0, 0, 0, 0, 0,\n",
       "       0, 0, 0, 0, 0, 0, 1, 1, 1, 1, 1, 1, 1, 1, 1, 1, 1, 1, 1, 1, 1, 1,\n",
       "       1, 1, 1, 1, 1, 1, 2, 1, 1, 1, 1, 1, 1, 1, 1, 1, 1, 2, 1, 1, 1, 1,\n",
       "       1, 1, 1, 1, 1, 1, 1, 1, 1, 1, 1, 1, 2, 2, 2, 2, 2, 2, 2, 2, 2, 2,\n",
       "       2, 2, 2, 2, 2, 2, 2, 2, 2, 2, 2, 2, 2, 2, 2, 2, 2, 2, 2, 2, 2, 2,\n",
       "       2, 2, 2, 2, 2, 2, 2, 2, 2, 2, 2, 2, 2, 2, 2, 2, 2, 2])"
      ]
     },
     "execution_count": 22,
     "metadata": {},
     "output_type": "execute_result"
    }
   ],
   "source": [
    "label_prop_model.predict(iris.data)\n",
    "\n",
    "\n",
    "\n",
    "\n",
    "#pd(iris['columns'])"
   ]
  },
  {
   "cell_type": "code",
   "execution_count": 23,
   "id": "33fb05ab",
   "metadata": {},
   "outputs": [
    {
     "data": {
      "text/plain": [
       "0.66"
      ]
     },
     "execution_count": 23,
     "metadata": {},
     "output_type": "execute_result"
    }
   ],
   "source": [
    "label_prop_model.score(iris.data, labels)"
   ]
  },
  {
   "cell_type": "code",
   "execution_count": null,
   "id": "2f36fc9b",
   "metadata": {},
   "outputs": [],
   "source": [
    ">>> import numpy as np\n",
    ">>> from sklearn import datasets\n",
    ">>> from sklearn.semi_supervised import SelfTrainingClassifier\n",
    ">>> from sklearn.svm import SVC\n",
    ">>> rng = np.random.RandomState(42)\n",
    ">>> iris = datasets.load_iris()\n",
    ">>> random_unlabeled_points = rng.rand(iris.target.shape[0]) < 0.3\n",
    ">>> iris.target[random_unlabeled_points] = -1\n",
    ">>> svc = SVC(probability=True, gamma=\"auto\")\n",
    ">>> self_training_model = SelfTrainingClassifier(svc)\n",
    ">>> self_training_model.fit(iris.data, iris.target)"
   ]
  },
  {
   "cell_type": "code",
   "execution_count": 25,
   "id": "e724b4de",
   "metadata": {},
   "outputs": [
    {
     "name": "stdout",
     "output_type": "stream",
     "text": [
      "[1]\n",
      "[1]\n"
     ]
    }
   ],
   "source": [
    "import numpy as np\n",
    ">>> X = np.array([[-1, -1], [-2, -1], [-3, -2], [1, 1], [2, 1], [3, 2], [100,1],[101,2],[203,3]])\n",
    ">>> Y = np.array([1, 1, 1, 2, 2, 2,3,3,3])\n",
    ">>> from sklearn.naive_bayes import GaussianNB\n",
    ">>> clf = GaussianNB()\n",
    ">>> clf.fit(X, Y)\n",
    "GaussianNB()\n",
    ">>> print(clf.predict([[-0.8, -1]]))\n",
    "[1]\n",
    ">>> clf_pf = GaussianNB()\n",
    ">>> clf_pf.partial_fit(X, Y, np.unique(Y))\n",
    "GaussianNB()\n",
    ">>> print(clf_pf.predict([[-0.8, -1]]))\n"
   ]
  },
  {
   "cell_type": "code",
   "execution_count": 26,
   "id": "bbff43e8",
   "metadata": {},
   "outputs": [
    {
     "name": "stdout",
     "output_type": "stream",
     "text": [
      "[3]\n"
     ]
    }
   ],
   "source": [
    " print(clf_pf.predict([[-1, 100]]))"
   ]
  },
  {
   "cell_type": "code",
   "execution_count": null,
   "id": "4f0b8c6b",
   "metadata": {},
   "outputs": [],
   "source": []
  }
 ],
 "metadata": {
  "kernelspec": {
   "display_name": "Python 3 (ipykernel)",
   "language": "python",
   "name": "python3"
  },
  "language_info": {
   "codemirror_mode": {
    "name": "ipython",
    "version": 3
   },
   "file_extension": ".py",
   "mimetype": "text/x-python",
   "name": "python",
   "nbconvert_exporter": "python",
   "pygments_lexer": "ipython3",
   "version": "3.7.4"
  }
 },
 "nbformat": 4,
 "nbformat_minor": 5
}
